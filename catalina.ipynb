{
 "cells": [
  {
   "cell_type": "code",
   "execution_count": null,
   "id": "7c1713e4-7cd7-4b8d-bace-bcd04edae2fc",
   "metadata": {},
   "outputs": [],
   "source": [
    "# automatically detect and update any changed files\n",
    "%load_ext autoreload\n",
    "%autoreload 2"
   ]
  },
  {
   "cell_type": "markdown",
   "id": "64063414-22a3-42ed-bbc4-a9a123110909",
   "metadata": {},
   "source": [
    "## Imports"
   ]
  },
  {
   "cell_type": "code",
   "execution_count": null,
   "id": "30e35445-d392-4ff6-af97-ec902cbd5e9f",
   "metadata": {},
   "outputs": [],
   "source": [
    "import matplotlib.dates as mdates\n",
    "import matplotlib.pyplot as plt\n",
    "import pandas as pd\n",
    "import numpy as np\n",
    "\n",
    "from gravipy import load_data, compute_corrections, load_geology, load_geology_map_key"
   ]
  },
  {
   "cell_type": "markdown",
   "id": "20c561e2-79de-4970-a8f2-6844639ba836",
   "metadata": {},
   "source": [
    "## Load data & apply corrections"
   ]
  },
  {
   "cell_type": "code",
   "execution_count": null,
   "id": "09c73369-9c52-4d2a-a168-c3fcb2d797c0",
   "metadata": {},
   "outputs": [],
   "source": [
    "BASE_STATION_ID = \"BASE\"\n",
    "\n",
    "gdf = load_data('data', 'catalina_gravity.csv')\n",
    "gdf = compute_corrections(gdf, BASE_STATION_ID)\n",
    "geology = load_geology()"
   ]
  },
  {
   "cell_type": "code",
   "execution_count": null,
   "id": "a38b12a4-3443-4cf3-8846-49cfcf7812e6",
   "metadata": {},
   "outputs": [],
   "source": [
    "gdf.keys()"
   ]
  },
  {
   "cell_type": "code",
   "execution_count": null,
   "id": "e1753a6d-7f0c-42e3-bd57-24f7c09c43fa",
   "metadata": {},
   "outputs": [],
   "source": [
    "def get_geology_colors(geology_types):\n",
    "    map_key_df = load_geology_map_key()\n",
    "    return [map_key_df.loc[gtype][\"COLOR\"] for gtype in geology_types]"
   ]
  },
  {
   "cell_type": "code",
   "execution_count": null,
   "id": "29a8e171-0e9b-4a45-89f4-45ed2542f201",
   "metadata": {},
   "outputs": [],
   "source": [
    "fig, ax = plt.subplots(figsize=(9,9))\n",
    "ax.scatter(gdf['measured anomaly [mGal]'], gdf['alt [m]'], label=\"measured\", alpha=0.7)\n",
    "ax.scatter(gdf['bouguer anomaly [mGal]'], gdf['alt [m]'], label=\"bouguer\", alpha=0.7)\n",
    "ax.scatter(gdf['free air anomaly [mGal]'], gdf['alt [m]'], label=\"free air\", alpha=0.7)\n",
    "ax.set_xlabel('gravity anomaly [mGal]')\n",
    "ax.set_ylabel('elevation [m]')\n",
    "ax.legend()\n",
    "ax.grid()\n",
    "plt.show()"
   ]
  },
  {
   "cell_type": "code",
   "execution_count": null,
   "id": "8a0ab024-3750-48e7-bd09-d5812637034c",
   "metadata": {},
   "outputs": [],
   "source": [
    "def get_transect_data():\n",
    "    transect_idxs = []\n",
    "    N_TRANSECT_SITES = 73\n",
    "    for i in range(N_TRANSECT_SITES):\n",
    "        transect_idxs += list(gdf['site id'][gdf['site id'] == str(i)].index)\n",
    "    \n",
    "    UTM_ZONE_11N_EPSG = 32611\n",
    "    transect_gdf = gdf.loc[transect_idxs].to_crs(UTM_ZONE_11N_EPSG)\n",
    "    transect_gdf['site id'] = transect_gdf['site id'].astype(int)\n",
    "    return transect_gdf.sort_values('site id')\n",
    "\n",
    "def compute_transect_distances(gdf):\n",
    "    geom = transect_gdf.geometry\n",
    "    distances = [0.0] + [p0.distance(p1) for p0, p1 in zip(geom, geom[1:])]\n",
    "    return np.cumsum(distances)\n",
    "\n",
    "transect_gdf = get_transect_data()\n",
    "color = get_geology_colors(transect_gdf[\"geology\"])\n",
    "x = compute_transect_distances(transect_gdf)"
   ]
  },
  {
   "cell_type": "code",
   "execution_count": null,
   "id": "0df8b23e-becb-4050-9566-6aa2867acf92",
   "metadata": {},
   "outputs": [],
   "source": [
    "# plot tidal correction\n",
    "fig, ax = plt.subplots(nrows=3, figsize=(8, 8))\n",
    "ax[0].scatter(x, transect_gdf[\"tidal correction [mGal]\"], alpha=0.7)\n",
    "ax[0].set_title(\"tidal correction [mGal]\")\n",
    "ax[1].scatter(x, transect_gdf[\"free air correction [mGal]\"], alpha=0.7)\n",
    "ax[1].set_title(\"free air correction [mGal]\")\n",
    "ax[2].scatter(x, transect_gdf[\"bouguer plate correction [mGal]\"], alpha=0.7)\n",
    "ax[2].set_title(\"bouguer plate correction [mGal]\")\n",
    "fig.set_tight_layout(True)\n",
    "plt.show()"
   ]
  },
  {
   "cell_type": "code",
   "execution_count": null,
   "id": "d3a1006d-16ff-4e67-9db5-d55eb8ff6c06",
   "metadata": {},
   "outputs": [],
   "source": [
    "fig, ax = plt.subplots(figsize=(10, 5))\n",
    "ax.set_xlabel('along-transect distance [m]')\n",
    "ax.set_ylabel('gravity anomaly [mGal]')\n",
    "# ax.scatter(x, transect_gdf[\"measured anomaly [mGal]\"], label=\"measured\", alpha=0.7)\n",
    "# ax.scatter(x, transect_gdf['free air anomaly [mGal]'], label='free air', alpha=0.7)\n",
    "ax.scatter(x, transect_gdf['bouguer anomaly [mGal]'], label='bouguer plate', alpha=0.7)\n",
    "ax.legend()\n",
    "plt.show()"
   ]
  },
  {
   "cell_type": "code",
   "execution_count": null,
   "id": "4bd31ad9-8cb3-4d97-a33c-978b3b19e77f",
   "metadata": {},
   "outputs": [],
   "source": [
    "fig, ax = plt.subplots(figsize=(10, 10))\n",
    "color = np.array((transect_gdf['bouguer anomaly [mGal]'] < 10).astype(int))\n",
    "print(color)\n",
    "geology.to_crs(4326).plot(ax=ax, edgecolor='k', facecolor=get_geology_colors(geology.index))\n",
    "transect_gdf.to_crs(4326).plot(ax=ax, alpha=0.5, c=color, marker='.', markersize=25)\n",
    "plt.show()"
   ]
  },
  {
   "cell_type": "code",
   "execution_count": null,
   "id": "8616f436-05fd-4d8a-8db3-fd6583cf3bf7",
   "metadata": {},
   "outputs": [],
   "source": []
  },
  {
   "cell_type": "code",
   "execution_count": null,
   "id": "d36e94d9-4435-42cc-85ce-c5c32b008551",
   "metadata": {},
   "outputs": [],
   "source": [
    "x, y = np.array([(p.x, p.y) for p in transect_gdf.geometry]).T\n",
    "\n",
    "print(len(x))"
   ]
  },
  {
   "cell_type": "code",
   "execution_count": null,
   "id": "ecbe2302-4146-49de-bf0e-eeda27029427",
   "metadata": {},
   "outputs": [],
   "source": [
    "distances = np.array(distances)\n",
    "fig, ax = plt.subplots()\n",
    "ax.hist(distances[(distances < 150) & (distances > 50)], bins=20, alpha=0.7)\n",
    "plt.show()"
   ]
  },
  {
   "cell_type": "code",
   "execution_count": null,
   "id": "d8b8d1ef-bb29-494f-8573-31ef99c02b64",
   "metadata": {},
   "outputs": [],
   "source": [
    "# Computing absolute gravity"
   ]
  },
  {
   "cell_type": "code",
   "execution_count": null,
   "id": "7e23241e-b19b-48d8-9044-6c5cb3eed36a",
   "metadata": {},
   "outputs": [],
   "source": [
    "airport_fa = gdf['free air anomaly [mGal]'][gdf['site id'] == 'Catalina Airport']\n",
    "campground_fa = gdf['free air anomaly [mGal]'][gdf['site id'] == 'Little Harbor Campground']\n",
    "road_fa = gdf['free air anomaly [mGal]'][gdf['site id'] == 'Road Station']\n",
    "\n",
    "airport_g = 80.70\n",
    "campground_g = 46.2\n",
    "road_g = 53.9"
   ]
  },
  {
   "cell_type": "code",
   "execution_count": null,
   "id": "fe3b7cc4-c233-43d2-a716-2d75adab2050",
   "metadata": {},
   "outputs": [],
   "source": [
    "print(airport_g - airport_fa)\n",
    "print(campground_g - campground_fa)\n",
    "print(road_g - road_fa)"
   ]
  },
  {
   "cell_type": "code",
   "execution_count": null,
   "id": "00249096-6e61-48c3-b82f-fd1ef9241914",
   "metadata": {},
   "outputs": [],
   "source": []
  }
 ],
 "metadata": {
  "kernelspec": {
   "display_name": "Python 3 (ipykernel)",
   "language": "python",
   "name": "python3"
  },
  "language_info": {
   "codemirror_mode": {
    "name": "ipython",
    "version": 3
   },
   "file_extension": ".py",
   "mimetype": "text/x-python",
   "name": "python",
   "nbconvert_exporter": "python",
   "pygments_lexer": "ipython3",
   "version": "3.11.6"
  }
 },
 "nbformat": 4,
 "nbformat_minor": 5
}
