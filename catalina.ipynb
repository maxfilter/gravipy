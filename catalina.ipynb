{
 "cells": [
  {
   "cell_type": "code",
   "execution_count": null,
   "id": "7c1713e4-7cd7-4b8d-bace-bcd04edae2fc",
   "metadata": {},
   "outputs": [],
   "source": [
    "# automatically detect and update any changed files\n",
    "%load_ext autoreload\n",
    "%autoreload 2"
   ]
  },
  {
   "cell_type": "markdown",
   "id": "64063414-22a3-42ed-bbc4-a9a123110909",
   "metadata": {},
   "source": [
    "## Imports"
   ]
  },
  {
   "cell_type": "code",
   "execution_count": null,
   "id": "30e35445-d392-4ff6-af97-ec902cbd5e9f",
   "metadata": {},
   "outputs": [],
   "source": [
    "import matplotlib.dates as mdates\n",
    "import matplotlib.pyplot as plt\n",
    "import pandas as pd\n",
    "from gravipy import load_data, compute_corrections"
   ]
  },
  {
   "cell_type": "markdown",
   "id": "20c561e2-79de-4970-a8f2-6844639ba836",
   "metadata": {},
   "source": [
    "## Load data & apply corrections"
   ]
  },
  {
   "cell_type": "code",
   "execution_count": null,
   "id": "09c73369-9c52-4d2a-a168-c3fcb2d797c0",
   "metadata": {},
   "outputs": [],
   "source": [
    "df = load_data('data', 'catalina_gravity.csv')\n",
    "is_base_station = df['notes'] == 'BASE' # also try BASE2\n",
    "# df = compute_corrections(df, is_base_station)"
   ]
  },
  {
   "cell_type": "code",
   "execution_count": null,
   "id": "cb636adf-0283-45e3-8875-549a41914295",
   "metadata": {},
   "outputs": [],
   "source": [
    "fig, ax = plt.subplots()\n",
    "\n",
    "for device in ('mit', 'caltech'):\n",
    "    is_device = df['device'] == device\n",
    "    ax.scatter(\n",
    "        df['time'][is_base_station & is_device],\n",
    "        df['g_measured [mGal]'][is_base_station & is_device],\n",
    "        label=device,\n",
    "        alpha=0.7\n",
    "    )\n",
    "\n",
    "ax.legend()\n",
    "ax.xaxis.set_major_formatter(mdates.DateFormatter('%b-%d'))\n",
    "ax.set_xlabel('time')\n",
    "ax.set_ylabel('base station gravity anomaly [mGal]')\n",
    "fig.set_tight_layout(True)\n",
    "plt.show()"
   ]
  }
 ],
 "metadata": {
  "kernelspec": {
   "display_name": "Python 3 (ipykernel)",
   "language": "python",
   "name": "python3"
  },
  "language_info": {
   "codemirror_mode": {
    "name": "ipython",
    "version": 3
   },
   "file_extension": ".py",
   "mimetype": "text/x-python",
   "name": "python",
   "nbconvert_exporter": "python",
   "pygments_lexer": "ipython3",
   "version": "3.11.6"
  }
 },
 "nbformat": 4,
 "nbformat_minor": 5
}
