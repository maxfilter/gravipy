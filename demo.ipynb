{
 "cells": [
  {
   "cell_type": "code",
   "execution_count": null,
   "id": "299ce0e8-9a6e-4bf9-8dad-928db8a814cf",
   "metadata": {},
   "outputs": [],
   "source": [
    "# automatically detect and update any changed files\n",
    "%load_ext autoreload\n",
    "%autoreload 2"
   ]
  },
  {
   "cell_type": "markdown",
   "id": "936fd327-5eb6-4572-bc64-ddac421bacb0",
   "metadata": {},
   "source": [
    "## Imports"
   ]
  },
  {
   "cell_type": "code",
   "execution_count": null,
   "id": "7c1f6763-6883-4eda-9e79-199874360c5b",
   "metadata": {},
   "outputs": [],
   "source": [
    "# standard lib imports\n",
    "import os\n",
    "\n",
    "# 3rd party imports\n",
    "import matplotlib.pyplot as plt\n",
    "import pandas as pd\n",
    "\n",
    "# gravipy imports\n",
    "from gravipy.correct import correct"
   ]
  },
  {
   "cell_type": "markdown",
   "id": "318dc407-dedc-416f-8154-e85b67a6dffc",
   "metadata": {},
   "source": [
    "## Load data & apply corrections"
   ]
  },
  {
   "cell_type": "code",
   "execution_count": null,
   "id": "d0a576be-226a-4337-bcda-62e803193bba",
   "metadata": {},
   "outputs": [],
   "source": [
    "# os path join takes into account Windows/Mac OS having different paths\n",
    "data_path = os.path.join('.', 'data', 'gravity', 'green_east_gravity.csv')"
   ]
  },
  {
   "cell_type": "code",
   "execution_count": null,
   "id": "f1fa7170-90ac-4ecd-a82b-0e6647071f91",
   "metadata": {},
   "outputs": [],
   "source": [
    "df = correct(data_path)"
   ]
  },
  {
   "cell_type": "markdown",
   "id": "abef6d23-acd5-4368-9c7d-05ec99015090",
   "metadata": {},
   "source": [
    "## View results"
   ]
  },
  {
   "cell_type": "code",
   "execution_count": null,
   "id": "1f483fa9-f17d-443b-9de2-da445728bc6d",
   "metadata": {},
   "outputs": [],
   "source": [
    "ax = df['raw'].plot()\n",
    "ax.set_xlabel('data point')\n",
    "ax.set_ylabel('raw measurement')\n",
    "plt.show()"
   ]
  }
 ],
 "metadata": {
  "kernelspec": {
   "display_name": "Python 3 (ipykernel)",
   "language": "python",
   "name": "python3"
  },
  "language_info": {
   "codemirror_mode": {
    "name": "ipython",
    "version": 3
   },
   "file_extension": ".py",
   "mimetype": "text/x-python",
   "name": "python",
   "nbconvert_exporter": "python",
   "pygments_lexer": "ipython3",
   "version": "3.11.6"
  }
 },
 "nbformat": 4,
 "nbformat_minor": 5
}
