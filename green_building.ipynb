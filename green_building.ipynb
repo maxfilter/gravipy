{
 "cells": [
  {
   "cell_type": "code",
   "execution_count": null,
   "id": "299ce0e8-9a6e-4bf9-8dad-928db8a814cf",
   "metadata": {},
   "outputs": [],
   "source": [
    "# automatically detect and update any changed files\n",
    "%load_ext autoreload\n",
    "%autoreload 2"
   ]
  },
  {
   "cell_type": "markdown",
   "id": "936fd327-5eb6-4572-bc64-ddac421bacb0",
   "metadata": {},
   "source": [
    "## Imports"
   ]
  },
  {
   "cell_type": "code",
   "execution_count": null,
   "id": "7c1f6763-6883-4eda-9e79-199874360c5b",
   "metadata": {},
   "outputs": [],
   "source": [
    "import matplotlib.pyplot as plt\n",
    "import pandas as pd\n",
    "from gravipy import load_data, compute_corrections"
   ]
  },
  {
   "cell_type": "markdown",
   "id": "318dc407-dedc-416f-8154-e85b67a6dffc",
   "metadata": {},
   "source": [
    "## Load data & apply corrections"
   ]
  },
  {
   "cell_type": "code",
   "execution_count": null,
   "id": "5cb5ab3f-5d04-457b-87c8-4cc582e3c25c",
   "metadata": {},
   "outputs": [],
   "source": [
    "frames = []\n",
    "for stairwell in ('east', 'west'):   \n",
    "    stairwell_df = load_data('data', f'green_{stairwell}_gravity.csv')\n",
    "    frames.append(compute_corrections(stairwell_df, base_station_id='2'))\n",
    "\n",
    "df = pd.concat(frames)"
   ]
  },
  {
   "cell_type": "code",
   "execution_count": null,
   "id": "18c18716-a1a0-4687-8064-0691cbf3f504",
   "metadata": {},
   "outputs": [],
   "source": [
    "fig, ax = plt.subplots()\n",
    "ax.scatter(df['alt [m]'], df['g_measured [mGal]'] - df['g_normal [mGal]'], label='measured', alpha=0.7)\n",
    "ax.scatter(df['alt [m]'], df['free air anomaly [mGal]'], label='free air', alpha=0.7)\n",
    "ax.scatter(df['alt [m]'], df['bouguer anomaly [mGal]'], label='bouguer', alpha=0.7)\n",
    "ax.legend()\n",
    "ax.set_ylabel('gravity anomaly [mGal]')\n",
    "ax.set_xlabel('elevation [m]')\n",
    "ax.grid()\n",
    "plt.show()"
   ]
  }
 ],
 "metadata": {
  "kernelspec": {
   "display_name": "Python 3 (ipykernel)",
   "language": "python",
   "name": "python3"
  },
  "language_info": {
   "codemirror_mode": {
    "name": "ipython",
    "version": 3
   },
   "file_extension": ".py",
   "mimetype": "text/x-python",
   "name": "python",
   "nbconvert_exporter": "python",
   "pygments_lexer": "ipython3",
   "version": "3.11.6"
  }
 },
 "nbformat": 4,
 "nbformat_minor": 5
}
